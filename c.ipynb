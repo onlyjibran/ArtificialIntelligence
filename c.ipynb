{
 "cells": [
  {
   "cell_type": "markdown",
   "metadata": {},
   "source": [
    "# MARCH 21 6-9 Data Structures - LIST exercises - JS"
   ]
  },
  {
   "cell_type": "code",
   "execution_count": 7,
   "metadata": {},
   "outputs": [
    {
     "name": "stdout",
     "output_type": "stream",
     "text": [
      "[2, 3, 5, 2, 1, 5, 33, 22, 53, 113, 65, 22]\n",
      "22\n",
      "[2, 3, 5, 2, 1, 5, 33, 22, 53, 113, 65]\n",
      "[5, 2, 1]\n"
     ]
    }
   ],
   "source": [
    "aSampleStack = [2,3,5,2,1,5,33,22,53,113,65,22]\n",
    "# stack can pop or push values - \n",
    "print (aSampleStack) # display original list\n",
    "poppedValue = aSampleStack.pop()   #strikes out the last value temporarily\n",
    "print(poppedValue) # display the value popped\n",
    "print(aSampleStack) # display the list after popping out one value\n",
    "slicedList = aSampleStack[2:5] # gives the 3rd till 4th\n",
    "print (slicedList)\n"
   ]
  },
  {
   "cell_type": "code",
   "execution_count": 72,
   "metadata": {},
   "outputs": [
    {
     "name": "stdout",
     "output_type": "stream",
     "text": [
      "[]\n",
      "0\n",
      "No More pending Tasks\n",
      "pending tasks are  []\n",
      "Completed tasks are  ['Milk', 'Chips', 'Pampers', 'Roti']\n",
      "4 0\n"
     ]
    }
   ],
   "source": [
    "# assignment - make a TODO list - and then ask if the task is completed - and then move those completed task to COMPLETED task list\n",
    "###ToDoList = ['Roti','Pampers', 'Chips', 'Milk']   #List of all tasks\n",
    "print (ToDoList)\n",
    "\n",
    "'''take input from user if the task is completed - if so, add remove task and move to CompletedList'''\n",
    "print(len(ToDoList))\n",
    "### ask if the task is completed\n",
    "\n",
    "\n",
    "if len(ToDoList)!=0:\n",
    "    Status = input ('Is the following task completed?')\n",
    "    if Status == 'y':\n",
    "        CompletedList.append(ToDoList.pop())\n",
    "else: print ('No More pending Tasks')\n",
    "\n",
    "print('pending tasks are ', ToDoList)\n",
    "print('Completed tasks are ', CompletedList)\n",
    "\n",
    "print(len(CompletedList), len(ToDoList))\n",
    "\n",
    "###if len(ToDoList)>0"
   ]
  },
  {
   "cell_type": "code",
   "execution_count": 73,
   "metadata": {},
   "outputs": [
    {
     "name": "stdout",
     "output_type": "stream",
     "text": [
      "['Roti', 'Pampers', 'Chips', 'Milk']\n"
     ]
    }
   ],
   "source": [
    "### assignment - make a TODO list - and then ask if the task is completed - and then move those completed task to COMPLETED task list\n",
    "ToDoList = ['Roti','Pampers', 'Chips', 'Milk']   #List of all tasks\n",
    "print (ToDoList)\n",
    "CompletedList=[]\n",
    "\n",
    "\n",
    "\n"
   ]
  },
  {
   "cell_type": "code",
   "execution_count": 78,
   "metadata": {},
   "outputs": [
    {
     "name": "stdout",
     "output_type": "stream",
     "text": [
      "0 Jibran Syed\n",
      "1 Jibran Syed\n",
      "2 Jibran Syed\n",
      "3 Jibran Syed\n",
      "4 Jibran Syed\n"
     ]
    }
   ],
   "source": [
    "# loops\n",
    "for num in range(5):\n",
    "    print(num, 'Jibran Syed')"
   ]
  },
  {
   "cell_type": "code",
   "execution_count": 84,
   "metadata": {},
   "outputs": [
    {
     "name": "stdout",
     "output_type": "stream",
     "text": [
      "1 Jibran\n",
      "2 Jibran\n",
      "3 Jibran\n",
      "4 Jibran\n",
      "5 Jibran\n",
      "6 Jibran\n",
      "7 Jibran\n",
      "8 Jibran\n"
     ]
    }
   ],
   "source": [
    "# defining ranges starting from a number and ending on another number\n",
    "for a in range(1,9):\n",
    "    print(a,'Jibran')"
   ]
  },
  {
   "cell_type": "code",
   "execution_count": 88,
   "metadata": {},
   "outputs": [
    {
     "name": "stdout",
     "output_type": "stream",
     "text": [
      "Pasta\n",
      "Biryani\n",
      "Tikka\n"
     ]
    }
   ],
   "source": [
    "#more functions using loops\n",
    "foods = ['Pasta', 'Biryani', 'Tikka']\n",
    "for food in foods:\n",
    "    print(food)"
   ]
  },
  {
   "cell_type": "code",
   "execution_count": 90,
   "metadata": {},
   "outputs": [
    {
     "name": "stdout",
     "output_type": "stream",
     "text": [
      "Pasta\n",
      "Biryani\n",
      "Tikka\n"
     ]
    }
   ],
   "source": [
    "#more functions using loops\n",
    "for food in ['Pasta', 'Biryani', 'Tikka']:\n",
    "    print(food)"
   ]
  },
  {
   "cell_type": "code",
   "execution_count": 93,
   "metadata": {},
   "outputs": [
    {
     "name": "stdout",
     "output_type": "stream",
     "text": [
      "Title >> Jibran\n",
      "Upper >> JIBRAN\n",
      "Lower >> jibran\n"
     ]
    }
   ],
   "source": [
    "name = 'Jibran'\n",
    "print('Title >>', name.title())\n",
    "print('Upper >>', name.upper())\n",
    "print('Lower >>', name.lower())"
   ]
  },
  {
   "cell_type": "code",
   "execution_count": 102,
   "metadata": {},
   "outputs": [
    {
     "name": "stdout",
     "output_type": "stream",
     "text": [
      "Jibran  is Present today!\n",
      "Wasit  is Present today!\n",
      "Farrukh  is Present today!\n",
      "Jhk  is Present today!\n"
     ]
    }
   ],
   "source": [
    "classAttendance = ['Jibran', 'Wasit', 'Farrukh', 'JHK']\n",
    "for attendance in classAttendance:\n",
    "    print(attendance.title(),' is Present today!')"
   ]
  },
  {
   "cell_type": "code",
   "execution_count": 105,
   "metadata": {},
   "outputs": [
    {
     "name": "stdout",
     "output_type": "stream",
     "text": [
      "I wear Levis\n",
      "I wear OutFitter\n",
      "I wear Mango\n",
      "I wear Nike\n"
     ]
    }
   ],
   "source": [
    "brands = ['Levis','OutFitter','Mango','Nike']\n",
    "for brand in brands:\n",
    "    print('I wear', brand)"
   ]
  },
  {
   "cell_type": "code",
   "execution_count": 109,
   "metadata": {},
   "outputs": [
    {
     "name": "stdout",
     "output_type": "stream",
     "text": [
      "1\n",
      "2\n",
      "3\n",
      "4\n",
      "5\n",
      "6\n",
      "7\n",
      "8\n"
     ]
    }
   ],
   "source": [
    "for i in range (1,9): # conventional Range usage indentifying to start from 1 instead of 0\n",
    "    print(i)\n",
    "    \n",
    "    "
   ]
  },
  {
   "cell_type": "code",
   "execution_count": 119,
   "metadata": {},
   "outputs": [
    {
     "name": "stdout",
     "output_type": "stream",
     "text": [
      "1\n",
      "3\n",
      "5\n",
      "7\n"
     ]
    }
   ],
   "source": [
    "for i in range (1,9,2): # added STEPS - move from 1 to 9, but move 2 numbers at a time\n",
    "    print(i)   "
   ]
  },
  {
   "cell_type": "code",
   "execution_count": 122,
   "metadata": {},
   "outputs": [
    {
     "name": "stdout",
     "output_type": "stream",
     "text": [
      "19\n",
      "18\n",
      "17\n",
      "16\n",
      "15\n",
      "14\n",
      "13\n",
      "12\n",
      "11\n",
      "10\n"
     ]
    }
   ],
   "source": [
    "for i in range (19,9,-1): # added STEPS - move from 19 to 9, but move -1 numbers at a time\n",
    "    print(i)"
   ]
  },
  {
   "cell_type": "code",
   "execution_count": 124,
   "metadata": {},
   "outputs": [
    {
     "name": "stdout",
     "output_type": "stream",
     "text": [
      "Q\n",
      "W\n",
      "e\n",
      "i\n",
      "o\n"
     ]
    }
   ],
   "source": [
    "for i in 'Q', 'W','e','i','o': # can define the range this way also - single and doubble quote both work\n",
    "    print(i)"
   ]
  },
  {
   "cell_type": "code",
   "execution_count": 139,
   "metadata": {},
   "outputs": [
    {
     "name": "stdout",
     "output_type": "stream",
     "text": [
      "[1]\n",
      "[1, 4]\n",
      "[1, 4, 9]\n",
      "[1, 4, 9, 16]\n",
      "[1, 4, 9, 16, 25]\n",
      "[1, 4, 9, 16, 25, 36]\n",
      "[1, 4, 9, 16, 25, 36, 49]\n",
      "[1, 4, 9, 16, 25, 36, 49, 64]\n",
      "[1, 4, 9, 16, 25, 36, 49, 64, 81]\n",
      "[1, 4, 9, 16, 25, 36, 49, 64, 81, 100]\n",
      "385\n",
      "100\n",
      "1\n"
     ]
    }
   ],
   "source": [
    "#print square of the list of numbers from 1 till 10\n",
    "FullList =[] #define a list\n",
    "for myList in range(1,11):\n",
    "    Squared=myList*myList\n",
    "    FullList.append(Squared) #add the squared value to the list\n",
    "    print(FullList) #print the list\n",
    "    \n",
    "print(sum(FullList))\n",
    "print(max(FullList))\n",
    "print(min(FullList))"
   ]
  },
  {
   "cell_type": "code",
   "execution_count": 140,
   "metadata": {},
   "outputs": [
    {
     "name": "stdout",
     "output_type": "stream",
     "text": [
      "1\n",
      "4\n",
      "9\n",
      "16\n",
      "25\n",
      "36\n",
      "49\n",
      "64\n",
      "81\n",
      "100\n"
     ]
    }
   ],
   "source": [
    "Squared=0\n",
    "#print square of the list of numbers from 1 till 10\n",
    "for myList in range(1,11):\n",
    "    Squared=myList**2 ## raise to power 2\n",
    "    print(Squared)"
   ]
  },
  {
   "cell_type": "code",
   "execution_count": 142,
   "metadata": {},
   "outputs": [
    {
     "name": "stdout",
     "output_type": "stream",
     "text": [
      "P\n",
      "a\n",
      "k\n",
      "i\n",
      "s\n",
      "t\n",
      "a\n",
      "n\n"
     ]
    }
   ],
   "source": [
    "for char in 'Pakistan': # each character shall be printed seperately - as no more strings given\n",
    "    print(char)"
   ]
  },
  {
   "cell_type": "code",
   "execution_count": 146,
   "metadata": {},
   "outputs": [
    {
     "name": "stdout",
     "output_type": "stream",
     "text": [
      "Pakistan\n",
      "USA\n"
     ]
    }
   ],
   "source": [
    "for char in 'Pakistan','USA': # Individual strings printed as two strings given (instead of characters)\n",
    "        print(char)"
   ]
  },
  {
   "cell_type": "code",
   "execution_count": 153,
   "metadata": {},
   "outputs": [
    {
     "name": "stdout",
     "output_type": "stream",
     "text": [
      "A\n",
      "B\n",
      "C\n",
      "D\n",
      "E\n",
      "F\n",
      "G\n",
      "H\n",
      "I\n",
      "J\n",
      "K\n",
      "L\n",
      "M\n",
      "N\n",
      "O\n",
      "P\n",
      "Q\n",
      "R\n",
      "S\n",
      "T\n",
      "U\n",
      "V\n",
      "W\n",
      "X\n",
      "Y\n",
      "Z\n"
     ]
    }
   ],
   "source": [
    "for alPh in 'ABCDEFGHIJKLMNOPQRSTUVWXYZ':\n",
    "    print(alPh)"
   ]
  },
  {
   "cell_type": "markdown",
   "metadata": {},
   "source": [
    "# LIST COMPREHENSION"
   ]
  },
  {
   "cell_type": "code",
   "execution_count": 156,
   "metadata": {},
   "outputs": [
    {
     "data": {
      "text/plain": [
       "[1, 4, 9, 16, 25, 36, 49, 64, 81, 100]"
      ]
     },
     "execution_count": 156,
     "metadata": {},
     "output_type": "execute_result"
    }
   ],
   "source": [
    "#we make a list and we code the entire thing within it\n",
    "[x**2 for x in range(1,11)]\n",
    "#Jo result show karana hoga wo FOR loop say PEHLAY hoga - x**2 in this cacse"
   ]
  },
  {
   "cell_type": "code",
   "execution_count": 158,
   "metadata": {},
   "outputs": [
    {
     "data": {
      "text/plain": [
       "['A',\n",
       " 'B',\n",
       " 'C',\n",
       " 'D',\n",
       " 'E',\n",
       " 'F',\n",
       " 'G',\n",
       " 'H',\n",
       " 'I',\n",
       " 'J',\n",
       " 'K',\n",
       " 'L',\n",
       " 'M',\n",
       " 'N',\n",
       " 'O',\n",
       " 'P',\n",
       " 'Q',\n",
       " 'R',\n",
       " 'S',\n",
       " 'T',\n",
       " 'U',\n",
       " 'V',\n",
       " 'W',\n",
       " 'X',\n",
       " 'Y',\n",
       " 'Z']"
      ]
     },
     "execution_count": 158,
     "metadata": {},
     "output_type": "execute_result"
    }
   ],
   "source": [
    "#we make a list and we code the entire thing within it\n",
    "[alPha for alPha in 'ABCDEFGHIJKLMNOPQRSTUVWXYZ']\n",
    "#Jo result show karana hoga wo FOR loop say PEHLAY hoga - alPha in this cacse"
   ]
  },
  {
   "cell_type": "code",
   "execution_count": 161,
   "metadata": {},
   "outputs": [
    {
     "data": {
      "text/plain": [
       "[1, 4, 9, 16, 25, 36, 49, 64, 81, 100]"
      ]
     },
     "execution_count": 161,
     "metadata": {},
     "output_type": "execute_result"
    }
   ],
   "source": [
    "[x**2 for x in range (1,11)] #squares numbers between 1 and 10"
   ]
  },
  {
   "cell_type": "code",
   "execution_count": 162,
   "metadata": {},
   "outputs": [
    {
     "data": {
      "text/plain": [
       "[4, 16, 36, 64, 100]"
      ]
     },
     "execution_count": 162,
     "metadata": {},
     "output_type": "execute_result"
    }
   ],
   "source": [
    "[x**2 for x in range (1,11) if x%2==0] #only show squares of EVEN numbers between 1 and 10 - more conditions can be addded also"
   ]
  },
  {
   "cell_type": "code",
   "execution_count": 164,
   "metadata": {},
   "outputs": [
    {
     "data": {
      "text/plain": [
       "[25]"
      ]
     },
     "execution_count": 164,
     "metadata": {},
     "output_type": "execute_result"
    }
   ],
   "source": [
    "#Make a list comprehension with 5 numbers - match the number for any one and print it's square\n",
    "[x**2 for x in range (1,11) if x==5] "
   ]
  },
  {
   "cell_type": "code",
   "execution_count": 180,
   "metadata": {},
   "outputs": [
    {
     "name": "stdout",
     "output_type": "stream",
     "text": [
      "please enter a number:1\n"
     ]
    },
    {
     "ename": "TypeError",
     "evalue": "argument of type 'int' is not iterable",
     "output_type": "error",
     "traceback": [
      "\u001b[1;31m---------------------------------------------------------------------------\u001b[0m",
      "\u001b[1;31mTypeError\u001b[0m                                 Traceback (most recent call last)",
      "\u001b[1;32m<ipython-input-180-7effa9e81288>\u001b[0m in \u001b[0;36m<module>\u001b[1;34m\u001b[0m\n\u001b[0;32m      1\u001b[0m \u001b[1;31m#Make a list comprehension with 5 numbers - match the number for any one and print it's square\u001b[0m\u001b[1;33m\u001b[0m\u001b[1;33m\u001b[0m\u001b[1;33m\u001b[0m\u001b[0m\n\u001b[1;32m----> 2\u001b[1;33m \u001b[1;33m[\u001b[0m\u001b[0mx\u001b[0m\u001b[1;33m**\u001b[0m\u001b[1;36m2\u001b[0m \u001b[1;32mfor\u001b[0m \u001b[0mx\u001b[0m \u001b[1;32min\u001b[0m \u001b[0mrange\u001b[0m \u001b[1;33m(\u001b[0m\u001b[1;36m1\u001b[0m\u001b[1;33m,\u001b[0m\u001b[1;36m11\u001b[0m\u001b[1;33m)\u001b[0m \u001b[1;32mif\u001b[0m \u001b[0minput\u001b[0m\u001b[1;33m(\u001b[0m\u001b[1;34m'please enter a number:'\u001b[0m\u001b[1;33m)\u001b[0m \u001b[1;32min\u001b[0m \u001b[0mx\u001b[0m\u001b[1;33m]\u001b[0m\u001b[1;33m\u001b[0m\u001b[1;33m\u001b[0m\u001b[0m\n\u001b[0m",
      "\u001b[1;32m<ipython-input-180-7effa9e81288>\u001b[0m in \u001b[0;36m<listcomp>\u001b[1;34m(.0)\u001b[0m\n\u001b[0;32m      1\u001b[0m \u001b[1;31m#Make a list comprehension with 5 numbers - match the number for any one and print it's square\u001b[0m\u001b[1;33m\u001b[0m\u001b[1;33m\u001b[0m\u001b[1;33m\u001b[0m\u001b[0m\n\u001b[1;32m----> 2\u001b[1;33m \u001b[1;33m[\u001b[0m\u001b[0mx\u001b[0m\u001b[1;33m**\u001b[0m\u001b[1;36m2\u001b[0m \u001b[1;32mfor\u001b[0m \u001b[0mx\u001b[0m \u001b[1;32min\u001b[0m \u001b[0mrange\u001b[0m \u001b[1;33m(\u001b[0m\u001b[1;36m1\u001b[0m\u001b[1;33m,\u001b[0m\u001b[1;36m11\u001b[0m\u001b[1;33m)\u001b[0m \u001b[1;32mif\u001b[0m \u001b[0minput\u001b[0m\u001b[1;33m(\u001b[0m\u001b[1;34m'please enter a number:'\u001b[0m\u001b[1;33m)\u001b[0m \u001b[1;32min\u001b[0m \u001b[0mx\u001b[0m\u001b[1;33m]\u001b[0m\u001b[1;33m\u001b[0m\u001b[1;33m\u001b[0m\u001b[0m\n\u001b[0m",
      "\u001b[1;31mTypeError\u001b[0m: argument of type 'int' is not iterable"
     ]
    }
   ],
   "source": [
    "#Make a list comprehension with 5 numbers - match the number for any one and print it's square\n",
    "[x**2 for x in range (1,11) if xy=input('please enter a number:') in x] "
   ]
  }
 ],
 "metadata": {
  "kernelspec": {
   "display_name": "Python 3",
   "language": "python",
   "name": "python3"
  },
  "language_info": {
   "codemirror_mode": {
    "name": "ipython",
    "version": 3
   },
   "file_extension": ".py",
   "mimetype": "text/x-python",
   "name": "python",
   "nbconvert_exporter": "python",
   "pygments_lexer": "ipython3",
   "version": "3.7.1"
  }
 },
 "nbformat": 4,
 "nbformat_minor": 2
}
